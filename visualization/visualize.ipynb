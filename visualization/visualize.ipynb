{
 "cells": [
  {
   "cell_type": "markdown",
   "metadata": {},
   "source": [
    "# Visuaulization Notebook\n",
    "This notebook visualize results of registration systems following the metrics that we set before."
   ]
  },
  {
   "cell_type": "code",
   "execution_count": 2,
   "metadata": {},
   "outputs": [],
   "source": [
    "import matplotlib.pyplot as plt\n",
    "import pickle\n",
    "from pathlib import Path\n",
    "import copy\n",
    "import numpy as np\n",
    "import sys\n",
    "from collections import defaultdict\n",
    "\n",
    "if \"../\" not in sys.path:\n",
    "    sys.path.append(\"../\")\n",
    "\n",
    "from registration.student import Degree\n",
    "from registration.course import Semester\n",
    "from registration.registration_system.lottery_system import LotterySystem\n",
    "from registration.registration_system.major_priority_system import MajorPrioritySystem\n",
    "from registration.registration_system.grade_priority_system import GradePrioritySystem\n",
    "from registration.registration_system.top3_priority_system import Top3PrioritySystem\n",
    "from registration.registration_system.top3_based_1_system import Top3Based1System\n",
    "from registration.registration_system.top3_based_2_system import Top3Based2System\n",
    "from registration.registration_system.system_type import SystemType"
   ]
  },
  {
   "cell_type": "markdown",
   "metadata": {},
   "source": [
    "## Simulate Registration System"
   ]
  },
  {
   "cell_type": "code",
   "execution_count": 3,
   "metadata": {},
   "outputs": [],
   "source": [
    "DATA_PATH = Path(\"../data/pickle\")\n",
    "\n",
    "result_bachelor_students_dict = defaultdict(list)"
   ]
  },
  {
   "cell_type": "code",
   "execution_count": 4,
   "metadata": {},
   "outputs": [],
   "source": [
    "# check if the pickle path is valid\n",
    "assert DATA_PATH.exists()"
   ]
  },
  {
   "cell_type": "markdown",
   "metadata": {},
   "source": [
    "### Set Semester"
   ]
  },
  {
   "cell_type": "code",
   "execution_count": 5,
   "metadata": {},
   "outputs": [
    {
     "data": {
      "text/plain": [
       "<Semester.SPRING: '봄'>"
      ]
     },
     "execution_count": 5,
     "metadata": {},
     "output_type": "execute_result"
    }
   ],
   "source": [
    "semester = Semester.value_of(input(\"What semester do you want to visualize? (in Korean) \"))\n",
    "semester"
   ]
  },
  {
   "cell_type": "markdown",
   "metadata": {},
   "source": [
    "### Run Systems"
   ]
  },
  {
   "cell_type": "code",
   "execution_count": 6,
   "metadata": {},
   "outputs": [],
   "source": [
    "# Lottery Systems\n",
    "students_dict = pickle.load(open(DATA_PATH / semester.name.lower() / \"students_dict.pickle\", \"rb\"))\n",
    "courses_dict = pickle.load(open(DATA_PATH / semester.name.lower() / \"courses_dict.pickle\", \"rb\"))\n",
    "\n",
    "students = list(students_dict.values())\n",
    "\n",
    "lottery_system = LotterySystem(courses_dict)\n",
    "result_students = lottery_system.register_students(students)\n",
    "result_bachelor_students_dict[SystemType.LOTTERY] = list(filter(lambda student: student.degree == Degree.BACHELOR, copy.deepcopy(result_students)))"
   ]
  },
  {
   "cell_type": "code",
   "execution_count": 7,
   "metadata": {},
   "outputs": [
    {
     "name": "stdout",
     "output_type": "stream",
     "text": [
      "4182 are registered with lottery system\n",
      "11105 students are in the original list\n",
      "11105 students enrolled\n",
      "3730 bachelor students are enrolled\n"
     ]
    }
   ],
   "source": [
    "# check if the results are valid\n",
    "print(len(courses_dict), \"are registered with lottery system\")\n",
    "\n",
    "print(len(students), \"students are in the original list\")\n",
    "print(len(result_students), \"students enrolled\")\n",
    "assert len(students) == len(result_students)\n",
    "\n",
    "print(len(result_bachelor_students_dict[SystemType.LOTTERY]), \"bachelor students are enrolled\")\n",
    "\n",
    "assert all(student.degree == Degree.BACHELOR for student in result_bachelor_students_dict[SystemType.LOTTERY])"
   ]
  },
  {
   "cell_type": "code",
   "execution_count": 8,
   "metadata": {},
   "outputs": [],
   "source": [
    "# Major Priority System\n",
    "students_dict = pickle.load(open(DATA_PATH / semester.name.lower() / \"students_dict.pickle\", \"rb\"))\n",
    "courses_dict = pickle.load(open(DATA_PATH / semester.name.lower() / \"courses_dict.pickle\", \"rb\"))\n",
    "\n",
    "students = list(students_dict.values())\n",
    "\n",
    "major_priority_system = MajorPrioritySystem(courses_dict)\n",
    "result_students = major_priority_system.register_students(students, (0.3, 0.3, 0.1))\n",
    "result_bachelor_students_dict[SystemType.MAJOR_PRIORITY] = list(filter(lambda student: student.degree == Degree.BACHELOR, copy.deepcopy(result_students)))"
   ]
  },
  {
   "cell_type": "code",
   "execution_count": 9,
   "metadata": {},
   "outputs": [
    {
     "name": "stdout",
     "output_type": "stream",
     "text": [
      "4182 are registered with major priority system\n",
      "11105 students are in the original list\n",
      "11105 students enrolled\n",
      "3730 bachelor students are enrolled\n"
     ]
    }
   ],
   "source": [
    "# check if the results are valid\n",
    "print(len(courses_dict), \"are registered with major priority system\")\n",
    "\n",
    "print(len(students), \"students are in the original list\")\n",
    "print(len(result_students), \"students enrolled\")\n",
    "assert len(students) == len(result_students)\n",
    "\n",
    "print(len(result_bachelor_students_dict[SystemType.MAJOR_PRIORITY]), \"bachelor students are enrolled\")\n",
    "\n",
    "assert all(student.degree == Degree.BACHELOR for student in result_bachelor_students_dict[SystemType.MAJOR_PRIORITY])"
   ]
  },
  {
   "cell_type": "code",
   "execution_count": 10,
   "metadata": {},
   "outputs": [],
   "source": [
    "# Grade Priority System: Change graduate standard and probability to see various results\n",
    "students_dict = pickle.load(open(DATA_PATH / semester.name.lower() / \"students_dict.pickle\", \"rb\"))\n",
    "courses_dict = pickle.load(open(DATA_PATH / semester.name.lower() / \"courses_dict.pickle\", \"rb\"))\n",
    "\n",
    "students = list(students_dict.values())\n",
    "\n",
    "grade_priority_system = GradePrioritySystem(courses_dict)\n",
    "result_students = grade_priority_system.register_students(students, 2018, 0.5)\n",
    "result_bachelor_students_dict[SystemType.GRADE_PRIORITY] = list(filter(lambda student: student.degree == Degree.BACHELOR, copy.deepcopy(result_students)))"
   ]
  },
  {
   "cell_type": "code",
   "execution_count": 11,
   "metadata": {},
   "outputs": [
    {
     "name": "stdout",
     "output_type": "stream",
     "text": [
      "4182 are registered with grade priority system\n",
      "11105 students are in the original list\n",
      "11105 students enrolled\n",
      "3730 bachelor students are enrolled\n"
     ]
    }
   ],
   "source": [
    "# check if the results are valid\n",
    "print(len(courses_dict), \"are registered with grade priority system\")\n",
    "\n",
    "print(len(students), \"students are in the original list\")\n",
    "print(len(result_students), \"students enrolled\")\n",
    "assert len(students) == len(result_students)\n",
    "\n",
    "print(len(result_bachelor_students_dict[SystemType.GRADE_PRIORITY]), \"bachelor students are enrolled\")\n",
    "\n",
    "assert all(student.degree == Degree.BACHELOR for student in result_bachelor_students_dict[SystemType.GRADE_PRIORITY])"
   ]
  },
  {
   "cell_type": "code",
   "execution_count": 12,
   "metadata": {},
   "outputs": [],
   "source": [
    "# Top3 Priority System: Change distributions of student preferences to see various results\n",
    "students_dict = pickle.load(open(DATA_PATH / semester.name.lower() / \"students_dict.pickle\", \"rb\"))\n",
    "courses_dict = pickle.load(open(DATA_PATH / semester.name.lower() / \"courses_dict.pickle\", \"rb\"))\n",
    "\n",
    "students = list(students_dict.values())\n",
    "\n",
    "top3_priority_system = Top3PrioritySystem(courses_dict)\n",
    "prioritized_students = top3_priority_system.designate_priority(students, (0.4, 0.4, 0.2))\n",
    "result_students = top3_priority_system.register_students(prioritized_students, (0.2, 0.2, 0.2))\n",
    "result_bachelor_students_dict[SystemType.TOP3_PRIORITY] = list(filter(lambda student: student.degree == Degree.BACHELOR, copy.deepcopy(result_students)))"
   ]
  },
  {
   "cell_type": "code",
   "execution_count": 13,
   "metadata": {},
   "outputs": [
    {
     "name": "stdout",
     "output_type": "stream",
     "text": [
      "4182 are registered with top3 priority system\n",
      "11105 students are in the original list\n",
      "11105 students enrolled\n",
      "3730 bachelor students are enrolled\n"
     ]
    }
   ],
   "source": [
    "# check if the results are valid\n",
    "print(len(courses_dict), \"are registered with top3 priority system\")\n",
    "\n",
    "print(len(students), \"students are in the original list\")\n",
    "print(len(result_students), \"students enrolled\")\n",
    "assert len(students) == len(result_students)\n",
    "\n",
    "print(len(result_bachelor_students_dict[SystemType.TOP3_PRIORITY]), \"bachelor students are enrolled\")\n",
    "\n",
    "assert all(student.degree == Degree.BACHELOR for student in result_bachelor_students_dict[SystemType.TOP3_PRIORITY])"
   ]
  },
  {
   "cell_type": "code",
   "execution_count": 14,
   "metadata": {},
   "outputs": [],
   "source": [
    "# Top3-based System 1: Change distributions to see various results\n",
    "students_dict = pickle.load(open(DATA_PATH / semester.name.lower() / \"students_dict.pickle\", \"rb\"))\n",
    "courses_dict = pickle.load(open(DATA_PATH / semester.name.lower() / \"courses_dict.pickle\", \"rb\"))\n",
    "\n",
    "students = list(students_dict.values())\n",
    "\n",
    "top3_based_1_system = Top3Based1System(courses_dict)\n",
    "prioritized_students = top3_based_1_system.designate_priority(students, (0.4, 0.4, 0.2))\n",
    "result_students = top3_based_1_system.register_students(prioritized_students, (0.2, 0.2, 0.2), 0.6, 0.3, 2018)\n",
    "result_bachelor_students_dict[SystemType.TOP3_BASED1] = list(filter(lambda student: student.degree == Degree.BACHELOR, copy.deepcopy(result_students)))"
   ]
  },
  {
   "cell_type": "code",
   "execution_count": 15,
   "metadata": {},
   "outputs": [
    {
     "name": "stdout",
     "output_type": "stream",
     "text": [
      "4182 are registered with top3 based system 1\n",
      "11105 students are in the original list\n",
      "11105 students enrolled\n",
      "3730 bachelor students are enrolled\n"
     ]
    }
   ],
   "source": [
    "# check if the results are valid\n",
    "print(len(courses_dict), \"are registered with top3 based system 1\")\n",
    "\n",
    "print(len(students), \"students are in the original list\")\n",
    "print(len(result_students), \"students enrolled\")\n",
    "assert len(students) == len(result_students)\n",
    "\n",
    "print(len(result_bachelor_students_dict[SystemType.TOP3_BASED1]), \"bachelor students are enrolled\")\n",
    "\n",
    "assert all(student.degree == Degree.BACHELOR for student in result_bachelor_students_dict[SystemType.TOP3_BASED1])"
   ]
  },
  {
   "cell_type": "code",
   "execution_count": 16,
   "metadata": {},
   "outputs": [],
   "source": [
    "# Top3-based System 2: Change distributions to see various results\n",
    "students_dict = pickle.load(open(DATA_PATH / semester.name.lower() / \"students_dict.pickle\", \"rb\"))\n",
    "courses_dict = pickle.load(open(DATA_PATH / semester.name.lower() / \"courses_dict.pickle\", \"rb\"))\n",
    "\n",
    "students = list(students_dict.values())\n",
    "\n",
    "top3_based_2_system = Top3Based2System(courses_dict)\n",
    "prioritized_students = top3_based_2_system.designate_priority(students, (0.4, 0.4, 0.2))\n",
    "result_students = top3_based_2_system.register_students(prioritized_students, (0.2, 0.2, 0.2), 0.5, 0.3, 2018)\n",
    "result_bachelor_students_dict[SystemType.TOP3_BASED2] = list(filter(lambda student: student.degree == Degree.BACHELOR, copy.deepcopy(result_students)))"
   ]
  },
  {
   "cell_type": "code",
   "execution_count": 17,
   "metadata": {},
   "outputs": [
    {
     "name": "stdout",
     "output_type": "stream",
     "text": [
      "4182 are registered with top3 based system 2\n",
      "11105 students are in the original list\n",
      "11105 students enrolled\n",
      "3730 bachelor students are enrolled\n"
     ]
    }
   ],
   "source": [
    "# check if the results are valid\n",
    "print(len(courses_dict), \"are registered with top3 based system 2\")\n",
    "\n",
    "print(len(students), \"students are in the original list\")\n",
    "print(len(result_students), \"students enrolled\")\n",
    "assert len(students) == len(result_students)\n",
    "\n",
    "print(len(result_bachelor_students_dict[SystemType.TOP3_BASED2]), \"bachelor students are enrolled\")\n",
    "\n",
    "assert all(student.degree == Degree.BACHELOR for student in result_bachelor_students_dict[SystemType.TOP3_BASED2])"
   ]
  },
  {
   "cell_type": "markdown",
   "metadata": {},
   "source": [
    "## Plots"
   ]
  },
  {
   "cell_type": "code",
   "execution_count": 18,
   "metadata": {},
   "outputs": [],
   "source": [
    "PLOT_PATH = Path(\"./plots/\")\n",
    "if not PLOT_PATH.exists():\n",
    "    PLOT_PATH.mkdir()\n",
    "\n",
    "plot_save_path = PLOT_PATH / semester.name.lower()\n",
    "if not plot_save_path.exists():\n",
    "    plot_save_path.mkdir()"
   ]
  },
  {
   "cell_type": "markdown",
   "metadata": {},
   "source": [
    "### Credit Related Plots\n",
    "We are going to see how many credits students were able to register through each registration system."
   ]
  },
  {
   "cell_type": "code",
   "execution_count": 19,
   "metadata": {},
   "outputs": [],
   "source": [
    "from collections import defaultdict\n",
    "\n",
    "from registration.major import MajorType\n",
    "from visualization.metrics.credit_distribution import get_credit_distribution\n",
    "from visualization.metrics.grade_distribution import get_grade_distribution\n",
    "from visualization.metrics.major_distribution import get_major_distribution\n",
    "from visualization.metrics.reactiveness_distribution import get_reactiveness_distribution\n",
    "\n",
    "MAX_CREDIT = 24"
   ]
  },
  {
   "cell_type": "code",
   "execution_count": 19,
   "metadata": {},
   "outputs": [],
   "source": [
    "credit_distributions_dict = {\n",
    "    key: get_credit_distribution(students, MAX_CREDIT)\n",
    "    for key, students in result_bachelor_students_dict.items()\n",
    "}"
   ]
  },
  {
   "cell_type": "markdown",
   "metadata": {},
   "source": [
    "#### Credit Distribution as Table"
   ]
  },
  {
   "cell_type": "code",
   "execution_count": 20,
   "metadata": {},
   "outputs": [
    {
     "name": "stdout",
     "output_type": "stream",
     "text": [
      "LOTTERY has 24 credit bars\n",
      "SystemType.LOTTERY\n",
      "=========================\n",
      "Total students: 2923\n",
      "Credit range: 0 ~ 24\n",
      "Average credits of students: 17.897365720150532\n",
      "Average students distribution: 121.79166666666667\n",
      "Std of students in the distribution: 117.40775782384323\n",
      "=========================\n",
      "\n",
      "MAJOR_PRIORITY has 24 credit bars\n",
      "SystemType.MAJOR_PRIORITY\n",
      "=========================\n",
      "Total students: 2906\n",
      "Credit range: 0 ~ 24\n",
      "Average credits of students: 17.840330350997935\n",
      "Average students distribution: 121.08333333333333\n",
      "Std of students in the distribution: 117.8080772084646\n",
      "=========================\n",
      "\n",
      "GRADE_PRIORITY has 24 credit bars\n",
      "SystemType.GRADE_PRIORITY\n",
      "=========================\n",
      "Total students: 2892\n",
      "Credit range: 0 ~ 24\n",
      "Average credits of students: 17.819156293222683\n",
      "Average students distribution: 120.5\n",
      "Std of students in the distribution: 115.61466169997644\n",
      "=========================\n",
      "\n",
      "TOP3_PRIORITY has 24 credit bars\n",
      "SystemType.TOP3_PRIORITY\n",
      "=========================\n",
      "Total students: 2906\n",
      "Credit range: 0 ~ 24\n",
      "Average credits of students: 17.89848589125946\n",
      "Average students distribution: 121.08333333333333\n",
      "Std of students in the distribution: 117.78367058109353\n",
      "=========================\n",
      "\n",
      "TOP3_BASED1 has 24 credit bars\n",
      "SystemType.TOP3_BASED1\n",
      "=========================\n",
      "Total students: 2899\n",
      "Credit range: 0 ~ 24\n",
      "Average credits of students: 17.85995170748534\n",
      "Average students distribution: 120.79166666666667\n",
      "Std of students in the distribution: 116.53539489738253\n",
      "=========================\n",
      "\n",
      "TOP3_BASED2 has 24 credit bars\n",
      "SystemType.TOP3_BASED2\n",
      "=========================\n",
      "Total students: 2899\n",
      "Credit range: 0 ~ 24\n",
      "Average credits of students: 17.869610210417385\n",
      "Average students distribution: 120.79166666666667\n",
      "Std of students in the distribution: 119.1822760755791\n",
      "=========================\n",
      "\n"
     ]
    }
   ],
   "source": [
    "for system_name, credit_distribution in credit_distributions_dict.items():\n",
    "    print(system_name.name, \"has\", len(credit_distribution), \"credit bars\")\n",
    "    total_students = sum(credit_distribution.values())\n",
    "    sum_of_credit_distribution = sum([credit * num_students for credit, num_students in credit_distribution.items()])\n",
    "    average_credits = sum_of_credit_distribution / total_students\n",
    "    average_students = total_students / len(credit_distribution)\n",
    "    # TODO: 학생 수의 표준편차? 학생들의 credit의 표준편차? 지금은 학생 수의 표준편차\n",
    "    std_students = np.std(list(credit_distribution.values()))\n",
    "    \n",
    "    print(system_name)\n",
    "    print(\"=========================\")\n",
    "    print(\"Total students:\", total_students)\n",
    "    print(\"Credit range:\", min(credit_distribution.keys()), \"~\", max(credit_distribution.keys()))\n",
    "    print(\"Average credits of students:\", average_credits)\n",
    "    print(\"Average students distribution:\", average_students)    \n",
    "    print(\"Std of students in the distribution:\", std_students)\n",
    "    print(\"=========================\")\n",
    "    print(\"\")"
   ]
  },
  {
   "cell_type": "markdown",
   "metadata": {},
   "source": [
    "#### Credit Distribution as Pie Chart"
   ]
  },
  {
   "cell_type": "code",
   "execution_count": 21,
   "metadata": {},
   "outputs": [],
   "source": [
    "def plot_credit_pie_chart(credit_distributions_dict, threshold=9):    \n",
    "    plt.figure(figsize=(20,15))    \n",
    "    rows = 2\n",
    "    cols = 3\n",
    "    \n",
    "    # get number of students with credits above threshold of each system\n",
    "    threshold_ratios_dict = defaultdict(tuple)\n",
    "    for system_name, credit_distribution in credit_distributions_dict.items():    \n",
    "        all_credits = sum(credit_distribution.values())\n",
    "        above_threshold = sum(credit_distribution[i] for i in range(threshold, MAX_CREDIT+1))\n",
    "        below_threshold = all_credits - above_threshold\n",
    "        threshold_ratios_dict[system_name] = (below_threshold / all_credits * 100, above_threshold / all_credits * 100)\n",
    "    \n",
    "    # plot pie chart\n",
    "    labels = [\"Below Threshold\", \"Above Threshold\"]\n",
    "    for i, (system_name, ratio) in enumerate(threshold_ratios_dict.items()):\n",
    "        # Place this plot in (1, numplots, i + 1)\n",
    "        # row = i // 3 + 1\n",
    "        # col = i % 3 + 1\n",
    "        plt.subplot(rows, cols, i + 1)\n",
    "        plt.pie(ratio, labels=labels, autopct='%1.1f%%', startangle=90)\n",
    "        plt.title(f\"{system_name.value} System\")\n",
    "        plt.axis('equal')\n",
    "\n",
    "    plt.savefig(plot_save_path / f\"credit_pie_chart_threshold_{threshold}.png\")\n",
    "    plt.show()\n",
    "    \n"
   ]
  },
  {
   "cell_type": "code",
   "execution_count": 22,
   "metadata": {},
   "outputs": [
    {
     "data": {
      "image/png": "[encoded data removed]",
      "text/plain": [
       "<Figure size 1440x1080 with 6 Axes>"
      ]
     },
     "metadata": {},
     "output_type": "display_data"
    }
   ],
   "source": [
    "plot_credit_pie_chart(credit_distributions_dict, threshold=9)"
   ]
  },
  {
   "cell_type": "markdown",
   "metadata": {},
   "source": [
    "### Grade Distribution"
   ]
  },
  {
   "cell_type": "code",
   "execution_count": 23,
   "metadata": {},
   "outputs": [],
   "source": [
    "course_filters_dict = {\n",
    "    \"All Lottery Courses\": lambda course: course.is_lottery\n",
    "}\n",
    "\n",
    "grade_distributions_dict = {\n",
    "    key: get_grade_distribution(students, course_filters_dict, threshold=2021) \n",
    "    for key, students in result_bachelor_students_dict.items()\n",
    "}"
   ]
  },
  {
   "cell_type": "markdown",
   "metadata": {},
   "source": [
    "#### Grade Distribution as Bar Plot"
   ]
  },
  {
   "cell_type": "code",
   "execution_count": 24,
   "metadata": {},
   "outputs": [],
   "source": [
    "def plot_grade_bar_plot(grade_distributions_dict, threshold=2021):\n",
    "    plt.figure(figsize=(20,8))\n",
    "\n",
    "    system_keys = [key.value for key in grade_distributions_dict.keys()]\n",
    "    width = 0.35\n",
    "    \n",
    "    # Transpose the result to get the grade distribution of each system as plot\n",
    "    transposed_distributions = {\n",
    "        \"Below Threshold\": [],\n",
    "        \"Above Threshold\": []\n",
    "    }\n",
    "    # For sorted results, use system_keys instead of grade_distribution_dict.items()    \n",
    "    for system_key in system_keys:\n",
    "        grade_distribution = grade_distributions_dict[system_key]\n",
    "        assert \"All Lottery Courses\" in grade_distribution.keys()\n",
    "        distribution = grade_distribution[\"All Lottery Courses\"]\n",
    "        \n",
    "        assert \"Below Threshold\" in distribution.keys() and \"Above Threshold\" in distribution.keys()\n",
    "        \n",
    "        below_average = sum(distribution[\"Below Threshold\"]) / len(distribution[\"Below Threshold\"])\n",
    "        above_average = sum(distribution[\"Above Threshold\"]) / len(distribution[\"Above Threshold\"])\n",
    "        print(f\"{system_key}'s (below, above) = ({below_average}, {above_average})\")\n",
    "        \n",
    "        transposed_distributions[\"Below Threshold\"].append(below_average)\n",
    "        transposed_distributions[\"Above Threshold\"].append(above_average)\n",
    "\n",
    "    # Actual plots\n",
    "    x_locations = np.arange(len(system_keys))\n",
    "    plt.bar(x_locations - width/2, transposed_distributions[\"Below Threshold\"], width, align=\"center\", label=f\"Non-senior in {threshold}\")\n",
    "    plt.bar(x_locations + width/2, transposed_distributions[\"Above Threshold\"], width, align=\"center\", label=f\"Senior in {threshold}\")\n",
    "\n",
    "    # Mark the axis\n",
    "    plt.xlabel(\"System Name\")\n",
    "    plt.xticks(range(len(system_keys)), system_keys)\n",
    "    plt.ylabel(\"Number of credits earned by random\")\n",
    "    \n",
    "    # TODO: Adjust the y-axis\n",
    "    \n",
    "    # Make titles and other labels\n",
    "    plt.title(f\"Grade distribution for {threshold}\")\n",
    "    plt.legend(fontsize=15)\n",
    "    plt.savefig(plot_save_path / f\"grade_bar_threshold_{threshold}.png\")\n",
    "    \n",
    "    plt.show()"
   ]
  },
  {
   "cell_type": "code",
   "execution_count": 25,
   "metadata": {},
   "outputs": [
    {
     "name": "stdout",
     "output_type": "stream",
     "text": [
      "Lottery's (below, above) = (3.4679691049522945, 3.5860039241334207)\n",
      "Major Priority's (below, above) = (3.449341208541572, 3.6265533028122956)\n",
      "Grade Priority's (below, above) = (3.0999545661063155, 4.188358404185743)\n",
      "Top3 Priority's (below, above) = (3.497955474784189, 3.5428384565075213)\n",
      "Top3-Based 1's (below, above) = (3.3948205361199455, 3.6971877043819488)\n",
      "Top3-Based 2's (below, above) = (3.416628805088596, 3.673642903858731)\n"
     ]
    },
    {
     "data": {
      "image/png": "[encoded data removed]",
      "text/plain": [
       "<Figure size 1440x576 with 1 Axes>"
      ]
     },
     "metadata": {
      "needs_background": "light"
     },
     "output_type": "display_data"
    }
   ],
   "source": [
    "plot_grade_bar_plot(grade_distributions_dict, threshold=2021)"
   ]
  },
  {
   "cell_type": "markdown",
   "metadata": {},
   "source": [
    "### Major Distribution"
   ]
  },
  {
   "cell_type": "code",
   "execution_count": 26,
   "metadata": {},
   "outputs": [],
   "source": [
    "major_distributions_dict = {\n",
    "    key: get_major_distribution(students) \n",
    "    for key, students in result_bachelor_students_dict.items()\n",
    "}"
   ]
  },
  {
   "cell_type": "markdown",
   "metadata": {},
   "source": [
    "#### Major Distribution as Bar Plot"
   ]
  },
  {
   "cell_type": "code",
   "execution_count": 27,
   "metadata": {},
   "outputs": [],
   "source": [
    "def plot_major_bar_plot(major_distributions_dict, threshold=2021):\n",
    "    system_keys = [key.value for key in grade_distributions_dict.keys()]\n",
    "    major_keys = list(major_distributions_dict[system_keys[0]].keys())\n",
    "    x_location = np.arange(len(system_keys))\n",
    "    width = 0.25\n",
    "        \n",
    "    # Transpose the result to get the major distribution of each system as plot\n",
    "    transposed_distributions = {\n",
    "        key: {\n",
    "            MajorType.MAJOR: [],\n",
    "            MajorType.DOUBLE_MAJOR: [],\n",
    "            MajorType.MINOR: [],\n",
    "            MajorType.ELSE: []\n",
    "        } for key in major_keys\n",
    "    }\n",
    "        \n",
    "    # For sorted results, use system_keys instead of grade_distribution_dict.items()    \n",
    "    for system_key in system_keys:\n",
    "        major_distribution = major_distributions_dict[system_key]\n",
    "\n",
    "        assert transposed_distributions.keys() == major_distribution.keys()\n",
    "        \n",
    "        for major_key in major_keys:\n",
    "            distribution = major_distribution[major_key]\n",
    "            aggregated_distribution = {\n",
    "                MajorType.MAJOR: sum(distribution[MajorType.MAJOR]) / len(distribution[MajorType.MAJOR]) if len(distribution[MajorType.MAJOR]) != 0 else 0,\n",
    "                MajorType.DOUBLE_MAJOR: sum(distribution[MajorType.DOUBLE_MAJOR]) / len(distribution[MajorType.DOUBLE_MAJOR]) if len(distribution[MajorType.DOUBLE_MAJOR]) != 0 else 0,\n",
    "                MajorType.MINOR: sum(distribution[MajorType.MINOR]) / len(distribution[MajorType.MINOR]) if len(distribution[MajorType.MINOR]) != 0 else 0,\n",
    "                MajorType.ELSE: sum(distribution[MajorType.ELSE]) / len(distribution[MajorType.ELSE]) if len(distribution[MajorType.ELSE]) != 0 else 0,\n",
    "            }\n",
    "            \n",
    "            transposed_distributions[major_key][MajorType.MAJOR].append(aggregated_distribution[MajorType.MAJOR])\n",
    "            transposed_distributions[major_key][MajorType.DOUBLE_MAJOR].append(aggregated_distribution[MajorType.DOUBLE_MAJOR])\n",
    "            transposed_distributions[major_key][MajorType.MINOR].append(aggregated_distribution[MajorType.MINOR])\n",
    "            transposed_distributions[major_key][MajorType.ELSE].append(aggregated_distribution[MajorType.ELSE])\n",
    "        \n",
    "    # Actual plots\n",
    "    for major_key in major_keys:\n",
    "        x_locations = np.arange(len(system_keys))\n",
    "        plt.figure(figsize=(15,8))        \n",
    "        plt.bar(x_locations - width * 0.75, transposed_distributions[major_key][MajorType.MAJOR], width=width/2, align='center', label=MajorType.MAJOR.value)\n",
    "        plt.bar(x_locations - width * 0.25, transposed_distributions[major_key][MajorType.DOUBLE_MAJOR], width=width/2, align='center', label=MajorType.DOUBLE_MAJOR.value)\n",
    "        plt.bar(x_locations + width * 0.25, transposed_distributions[major_key][MajorType.MINOR], width=width/2, align='center', label=MajorType.MINOR.value)\n",
    "        plt.bar(x_locations + width * 0.75, transposed_distributions[major_key][MajorType.ELSE], width=width/2, align='center', label=MajorType.ELSE.value)\n",
    "\n",
    "        # Mark the axis\n",
    "        plt.xlabel(\"System Name\")\n",
    "        plt.xticks(range(len(system_keys)), system_keys)\n",
    "        plt.ylabel(\"Ratios of credits earned by random\")\n",
    "\n",
    "        # Mark the title, labels        \n",
    "        plt.xticks(x_location, system_keys)\n",
    "        plt.title(f\"Major distribution for {threshold} in {major_key.name}\")\n",
    "        plt.legend()\n",
    "        plt.tight_layout()\n",
    "        plt.savefig(plot_save_path / f\"major_bar_major_{major_key.name}_threshold_{threshold}.png\")\n",
    "        plt.show()"
   ]
  },
  {
   "cell_type": "code",
   "execution_count": 28,
   "metadata": {},
   "outputs": [
    {
     "data": {
      "image/png": "[encoded data removed]",
      "text/plain": [
       "<Figure size 1080x576 with 1 Axes>"
      ]
     },
     "metadata": {
      "needs_background": "light"
     },
     "output_type": "display_data"
    }
   ],
   "source": [
    "plot_major_bar_plot(major_distributions_dict, threshold=2021)"
   ]
  },
  {
   "cell_type": "markdown",
   "metadata": {},
   "source": [
    "### Top 3 Priority Performance"
   ]
  },
  {
   "cell_type": "code",
   "execution_count": 20,
   "metadata": {},
   "outputs": [],
   "source": [
    "top3_distributions_dict = {\n",
    "    key: get_reactiveness_distribution(students)\n",
    "    for key, students in result_bachelor_students_dict.items() if \"top3\" in key.value.lower()\n",
    "}"
   ]
  },
  {
   "cell_type": "markdown",
   "metadata": {},
   "source": [
    "#### Top 3 Priority Distribution as Bar Plot"
   ]
  },
  {
   "cell_type": "markdown",
   "metadata": {},
   "source": [
    "#### "
   ]
  },
  {
   "cell_type": "code",
   "execution_count": 37,
   "metadata": {},
   "outputs": [],
   "source": [
    "def plot_top3_bar_plot(top3_distributions_dict):\n",
    "    plt.figure(figsize=(10,8))\n",
    "    \n",
    "    system_keys = [key.value for key in top3_distributions_dict.keys()]\n",
    "    x_location = np.arange(len(system_keys))\n",
    "    width = 0.25\n",
    "    \n",
    "    aggregated_distributions = []\n",
    "    for system_key in system_keys:\n",
    "        top3_distribution = top3_distributions_dict[system_key]\n",
    "        aggregated_distributions.append(sum(top3_distribution) / len(top3_distribution))\n",
    "\n",
    "    plt.bar(x_location, aggregated_distributions, width=width, align='center')\n",
    "    # Mark the axis\n",
    "    plt.xlabel(\"System Name\")\n",
    "    plt.xticks(range(len(system_keys)), system_keys)\n",
    "    plt.ylabel(\"Number of courses enrolled among top3\")\n",
    "    plt.ylim(2.5, 3)\n",
    "    \n",
    "    # Mark the title, labels        \n",
    "    plt.xticks(x_location, system_keys)\n",
    "    plt.title(f\"Successful Registration Distribution in Top 3\")\n",
    "    plt.tight_layout()\n",
    "    plt.savefig(plot_save_path / f\"top3_bar.png\")\n",
    "    plt.show()\n",
    "    "
   ]
  },
  {
   "cell_type": "code",
   "execution_count": 38,
   "metadata": {},
   "outputs": [
    {
     "data": {
      "image/png": "[encoded data removed]",
      "text/plain": [
       "<Figure size 720x576 with 1 Axes>"
      ]
     },
     "metadata": {
      "needs_background": "light"
     },
     "output_type": "display_data"
    }
   ],
   "source": [
    "plot_top3_bar_plot(top3_distributions_dict)"
   ]
  }
 ],
 "metadata": {
  "interpreter": {
   "hash": "501d67869151d98a5fe0662ba67ccfdeb443ba616a5f3c946feb8963078ce358"
  },
  "kernelspec": {
   "display_name": "Python 3.6.8 64-bit ('venv': venv)",
   "language": "python",
   "name": "python3"
  },
  "language_info": {
   "codemirror_mode": {
    "name": "ipython",
    "version": 3
   },
   "file_extension": ".py",
   "mimetype": "text/x-python",
   "name": "python",
   "nbconvert_exporter": "python",
   "pygments_lexer": "ipython3",
   "version": "3.6.8"
  },
  "orig_nbformat": 4
 },
 "nbformat": 4,
 "nbformat_minor": 2
}
